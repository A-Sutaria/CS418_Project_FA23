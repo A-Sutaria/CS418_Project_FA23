{
 "cells": [
  {
   "cell_type": "markdown",
   "metadata": {},
   "source": [
    "# Project: Project-Name\n",
    "\n",
    "Authors:\n",
    "\n",
    "* Arpan Sutaria\n",
    "* Devesh Patel\n",
    "* Htin Linn Htoo Than\n",
    "* Jay Patel\n",
    "* Kevinkumar Patel\n"
   ]
  },
  {
   "cell_type": "markdown",
   "metadata": {},
   "source": [
    "# Project Introduction\n",
    "\n",
    "TODO: an introduction that discusses the data and related problems that you are investigating."
   ]
  },
  {
   "cell_type": "markdown",
   "metadata": {},
   "source": [
    "# Any changes since the proposal\n",
    "Describe the previous project in brief. Mention why we shifted to our current project."
   ]
  },
  {
   "cell_type": "markdown",
   "metadata": {},
   "source": [
    "# Data - Htin Linn\n",
    "Explain how you obtained the data, and prepared the data.\n",
    "\n",
    "We mainly obtained the data by downloading from https://www.zillow.com/research/data/ according to the geogrpahy and data types needed. We found an abundance of data on house prices on which we are able to make hypotheses on. However, since many of the datasets have missing values, we each had to clean the that we chose to work on so that there aren't any errors when doing visualizations or machine learning analysis. "
   ]
  },
  {
   "cell_type": "markdown",
   "metadata": {},
   "source": [
    "# Exploratory Data Analysis (EDA) - Htin Linn\n",
    "TODO: explain what your data looks like (visualizations are often better). Include any interesting issues or preliminary conclusions you have about your data.\n",
    "\n",
    "The datasets we used for this project mainly consists of numerical values which are prices of different homes over a period of time and variables which are different regions and states. Since our main focus is to compare prices across different variables over a different period of time, we had to make sure our datasets included exactly the type of data we needed and we needed to clean to filter out any missing values.\n",
    "\n",
    "\n",
    "The 6 main different datasets are The Zillow Home Value Index (ZHVI), the Zillow Home Value Forecast (ZHVF), the Zillow Observed Rent Index (ZORI), Inventory, List and Sale Prices and Sales Count and Price Cuts. Each dataset is also divided into multiple data types across different geography values such as Metro & U.S, State, County, City, Zip Code and Neighbourhood. However, the issue we faced was that not all datasets have the each of the geography value except for Metro & U.S so we decided to mainly use the datasets which have the Metro & U.S values.\n",
    "\n",
    "For ZHVI, the dataset is the measure of the typical home value based on their size and tier and market changes across a given region and housing type. We focused on all homes in the United States as a whole throughout the years to give a breif idea about the dataset and its trend.\n",
    "\n",
    "\n",
    "\n",
    "For ZHVF, the dataset is a forecast of the Zillow Home Value Index (ZHVI). ZHVF is created using the all homes, mid-tier cut of ZHVI and is available both raw and smoothed, seasonally adjusted divided up into time ranges of a month-ahead, quarter-ahead and year-ahead which the BaseDate is September 31,2023. Therefore, the dataset contains the forest of homes' prices in October 31,2023, December 31,2023 and August 30,2024.  This simple graph below shows the overall trend of the forecast all homes in the United States. \n",
    "\n",
    "\n",
    "\n",
    "For ZORI, the datasets are the measure of the typical rent price across a given region. Below is the graph of the rent prices of all homes in the United States as a whole throughout the years to give an idea about the dataset and its trend.\n",
    "\n",
    "\n",
    "\n",
    "For Inventory, the datasets' topics include For-Sale Inventory which is the count of unique listings that were active at any time in a given month, New listings which shows how many new listings have come on the market in a given month, newly pending listings which are the count of listings that changed from for-sale to pending status on Zillow.com in a given time period and Days to Pending which contains how long it takes homes in a region to change to pending status on Zillow.com after first being shown as for sale for all homes weekly or monthly. For example, the graph below shows the overall trend of the For-Sale Inventory for all homes montly in the United States.\n",
    "\n",
    "\n",
    "For List and Sale Prices, the topics are median list price of homes across various geographies, median sale price at which homes across various geographies were sold, ratio of sale vs. final list price, ratio of sales where sale price below/above the final list price not including the homes sold for exactly the list price and the number of days between the listing going pending and the sale date. The graph below shows the overall trend of the median price at which homes across the United States were listed.\n",
    "\n",
    "\n",
    "\n",
    "For Sales Count and Price Cuts, the topics are The Sales Count Nowcast which is the estimated number of unique properties that sold during the month after accounting for the latency between when sales occur and when they are reported, Share of Listings With a Price Cut which is the number of unique properties with a list price at the end of the month that’s less than the list price at the beginning of the month, divided by the number of unique properties with an active listing at some point during the month and Price Cuts which are the mean and median price cut for listings in a given region during a given time period. The graph below shows the overall trend of number of unique properties that are sold during the month after accounting for the latency between when sales occur and when they are reported in the United States.\n",
    "\n",
    "\n",
    "\n",
    "\n",
    "\n",
    "Overall, the data we obtained have an abundance of information already which makes it easier for us to make hypotheses on and compare different datasets across different variables. The overall trend of all datasets seems to be that the prices always gets higher throughout time."
   ]
  },
  {
   "cell_type": "markdown",
   "metadata": {},
   "source": [
    "# Visualization (Needed at least 5)"
   ]
  },
  {
   "cell_type": "markdown",
   "metadata": {},
   "source": [
    "# ML Analysis (needed at least 2)"
   ]
  },
  {
   "cell_type": "markdown",
   "metadata": {},
   "source": [
    "# Reflection\n",
    "TODO:\n",
    "○ What is the most challenging part of the project that you’ve encountered so far?\n",
    "○ What are your initial insights?\n",
    "○ Are there any concrete results you can show at this point? If not, why not?\n",
    "○ Going forward, what are the current biggest problems you’re facing?\n",
    "○ Do you think you are on track with your project? If not, what parts do you need to dedicate more time to?\n",
    "○ Given your initial exploration of the data, is it worth proceeding with your project, why? If not, how will you move forward (method, data etc)?"
   ]
  },
  {
   "cell_type": "markdown",
   "metadata": {},
   "source": [
    "# Next Step\n",
    "TODO: Concrete plans and goals for the next month"
   ]
  }
 ],
 "metadata": {
  "kernelspec": {
   "display_name": "Python 3",
   "language": "python",
   "name": "python3"
  },
  "language_info": {
   "codemirror_mode": {
    "name": "ipython",
    "version": 3
   },
   "file_extension": ".py",
   "mimetype": "text/x-python",
   "name": "python",
   "nbconvert_exporter": "python",
   "pygments_lexer": "ipython3",
   "version": "3.11.5"
  }
 },
 "nbformat": 4,
 "nbformat_minor": 2
}
