{
 "cells": [
  {
   "cell_type": "markdown",
   "metadata": {},
   "source": [
    "# Project: Project-Name\n",
    "\n",
    "Authors:\n",
    "\n",
    "* Arpan Sutaria\n",
    "* Devesh Patel\n",
    "* Htin Linn Htoo Than\n",
    "* Jay Patel\n",
    "* Kevinkumar Patel\n"
   ]
  },
  {
   "cell_type": "markdown",
   "metadata": {},
   "source": [
    "# Project Introduction\n",
    "\n",
    "TODO: an introduction that discusses the data and related problems that you are investigating."
   ]
  },
  {
   "cell_type": "markdown",
   "metadata": {},
   "source": [
    "# Any changes since the proposal\n",
    "Describe the previous project in brief. Mention why we shifted to our current project."
   ]
  },
  {
   "cell_type": "markdown",
   "metadata": {},
   "source": [
    "# Data - Htin Linn\n",
    "Explain how you obtained the data, and prepared the data.\n",
    "\n",
    "We mainly obtained the data by downloading from https://www.zillow.com/research/data/ according to the geogrpahy and data types needed. We found an abundance of data on house prices on which we are able to make hypotheses on. However, since many of the datasets have missing values, we each had to clean the that we chose to work on so that there aren't any errors when doing visualizations or machine learning analysis. "
   ]
  },
  {
   "cell_type": "markdown",
   "metadata": {},
   "source": [
    "# Exploratory Data Analysis (EDA) - Htin Linn\n",
    "TODO: explain what your data looks like (visualizations are often better). Include any interesting issues or preliminary conclusions you have about your data.\n",
    "\n",
    "The datasets we used for this project mainly consists of numerical values which are prices of different homes over a period of time and variables which are different regions and states. Since our main focus is to compare prices across different variables over a different period of time, we had to make sure our datasets included exactly the type of data we needed and we needed to clean to filter out any missing values. "
   ]
  },
  {
   "cell_type": "markdown",
   "metadata": {},
   "source": [
    "# Visualization (Needed at least 5)"
   ]
  },
  {
   "cell_type": "markdown",
   "metadata": {},
   "source": [
    "# ML Analysis (needed at least 2)"
   ]
  },
  {
   "cell_type": "markdown",
   "metadata": {},
   "source": [
    "# Reflection\n",
    "TODO:\n",
    "○ What is the most challenging part of the project that you’ve encountered so far?\n",
    "○ What are your initial insights?\n",
    "○ Are there any concrete results you can show at this point? If not, why not?\n",
    "○ Going forward, what are the current biggest problems you’re facing?\n",
    "○ Do you think you are on track with your project? If not, what parts do you need to dedicate more time to?\n",
    "○ Given your initial exploration of the data, is it worth proceeding with your project, why? If not, how will you move forward (method, data etc)?"
   ]
  },
  {
   "cell_type": "markdown",
   "metadata": {},
   "source": [
    "# Next Step\n",
    "TODO: Concrete plans and goals for the next month"
   ]
  }
 ],
 "metadata": {
  "kernelspec": {
   "display_name": "Python 3",
   "language": "python",
   "name": "python3"
  },
  "language_info": {
   "codemirror_mode": {
    "name": "ipython",
    "version": 3
   },
   "file_extension": ".py",
   "mimetype": "text/x-python",
   "name": "python",
   "nbconvert_exporter": "python",
   "pygments_lexer": "ipython3",
   "version": "3.11.5"
  }
 },
 "nbformat": 4,
 "nbformat_minor": 2
}
